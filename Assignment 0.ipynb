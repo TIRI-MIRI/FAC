{
  "nbformat": 4,
  "nbformat_minor": 0,
  "metadata": {
    "colab": {
      "provenance": [],
      "authorship_tag": "ABX9TyN1GyXVUFAB3u3t+HMPjuMk",
      "include_colab_link": true
    },
    "kernelspec": {
      "name": "python3",
      "display_name": "Python 3"
    },
    "language_info": {
      "name": "python"
    }
  },
  "cells": [
    {
      "cell_type": "markdown",
      "metadata": {
        "id": "view-in-github",
        "colab_type": "text"
      },
      "source": [
        "<a href=\"https://colab.research.google.com/github/TIRI-MIRI/FAC/blob/main/Assignment%200.ipynb\" target=\"_parent\"><img src=\"https://colab.research.google.com/assets/colab-badge.svg\" alt=\"Open In Colab\"/></a>"
      ]
    },
    {
      "cell_type": "code",
      "execution_count": null,
      "metadata": {
        "colab": {
          "base_uri": "https://localhost:8080/"
        },
        "id": "y2s7_AvG9m0a",
        "outputId": "b23e0e72-512d-443e-e30f-7b5b0c6e4ed0"
      },
      "outputs": [
        {
          "metadata": {
            "tags": null
          },
          "name": "stdout",
          "output_type": "stream",
          "text": [
            "Requirement already satisfied: yfinance in /usr/local/lib/python3.10/dist-packages (0.2.40)\n",
            "Requirement already satisfied: pandas>=1.3.0 in /usr/local/lib/python3.10/dist-packages (from yfinance) (2.0.3)\n",
            "Requirement already satisfied: numpy>=1.16.5 in /usr/local/lib/python3.10/dist-packages (from yfinance) (1.25.2)\n",
            "Requirement already satisfied: requests>=2.31 in /usr/local/lib/python3.10/dist-packages (from yfinance) (2.31.0)\n",
            "Requirement already satisfied: multitasking>=0.0.7 in /usr/local/lib/python3.10/dist-packages (from yfinance) (0.0.11)\n",
            "Requirement already satisfied: lxml>=4.9.1 in /usr/local/lib/python3.10/dist-packages (from yfinance) (4.9.4)\n",
            "Requirement already satisfied: platformdirs>=2.0.0 in /usr/local/lib/python3.10/dist-packages (from yfinance) (4.2.2)\n",
            "Requirement already satisfied: pytz>=2022.5 in /usr/local/lib/python3.10/dist-packages (from yfinance) (2023.4)\n",
            "Requirement already satisfied: frozendict>=2.3.4 in /usr/local/lib/python3.10/dist-packages (from yfinance) (2.4.4)\n",
            "Requirement already satisfied: peewee>=3.16.2 in /usr/local/lib/python3.10/dist-packages (from yfinance) (3.17.5)\n",
            "Requirement already satisfied: beautifulsoup4>=4.11.1 in /usr/local/lib/python3.10/dist-packages (from yfinance) (4.12.3)\n",
            "Requirement already satisfied: html5lib>=1.1 in /usr/local/lib/python3.10/dist-packages (from yfinance) (1.1)\n",
            "Requirement already satisfied: soupsieve>1.2 in /usr/local/lib/python3.10/dist-packages (from beautifulsoup4>=4.11.1->yfinance) (2.5)\n",
            "Requirement already satisfied: six>=1.9 in /usr/local/lib/python3.10/dist-packages (from html5lib>=1.1->yfinance) (1.16.0)\n",
            "Requirement already satisfied: webencodings in /usr/local/lib/python3.10/dist-packages (from html5lib>=1.1->yfinance) (0.5.1)\n",
            "Requirement already satisfied: python-dateutil>=2.8.2 in /usr/local/lib/python3.10/dist-packages (from pandas>=1.3.0->yfinance) (2.8.2)\n",
            "Requirement already satisfied: tzdata>=2022.1 in /usr/local/lib/python3.10/dist-packages (from pandas>=1.3.0->yfinance) (2024.1)\n",
            "Requirement already satisfied: charset-normalizer<4,>=2 in /usr/local/lib/python3.10/dist-packages (from requests>=2.31->yfinance) (3.3.2)\n",
            "Requirement already satisfied: idna<4,>=2.5 in /usr/local/lib/python3.10/dist-packages (from requests>=2.31->yfinance) (3.7)\n",
            "Requirement already satisfied: urllib3<3,>=1.21.1 in /usr/local/lib/python3.10/dist-packages (from requests>=2.31->yfinance) (2.0.7)\n",
            "Requirement already satisfied: certifi>=2017.4.17 in /usr/local/lib/python3.10/dist-packages (from requests>=2.31->yfinance) (2024.6.2)\n",
            "Requirement already satisfied: numpy in /usr/local/lib/python3.10/dist-packages (1.25.2)\n",
            "Requirement already satisfied: pandas in /usr/local/lib/python3.10/dist-packages (2.0.3)\n",
            "Requirement already satisfied: python-dateutil>=2.8.2 in /usr/local/lib/python3.10/dist-packages (from pandas) (2.8.2)\n",
            "Requirement already satisfied: pytz>=2020.1 in /usr/local/lib/python3.10/dist-packages (from pandas) (2023.4)\n",
            "Requirement already satisfied: tzdata>=2022.1 in /usr/local/lib/python3.10/dist-packages (from pandas) (2024.1)\n",
            "Requirement already satisfied: numpy>=1.21.0 in /usr/local/lib/python3.10/dist-packages (from pandas) (1.25.2)\n",
            "Requirement already satisfied: six>=1.5 in /usr/local/lib/python3.10/dist-packages (from python-dateutil>=2.8.2->pandas) (1.16.0)\n",
            "Requirement already satisfied: matplotlib in /usr/local/lib/python3.10/dist-packages (3.7.1)\n",
            "Requirement already satisfied: contourpy>=1.0.1 in /usr/local/lib/python3.10/dist-packages (from matplotlib) (1.2.1)\n",
            "Requirement already satisfied: cycler>=0.10 in /usr/local/lib/python3.10/dist-packages (from matplotlib) (0.12.1)\n",
            "Requirement already satisfied: fonttools>=4.22.0 in /usr/local/lib/python3.10/dist-packages (from matplotlib) (4.53.0)\n",
            "Requirement already satisfied: kiwisolver>=1.0.1 in /usr/local/lib/python3.10/dist-packages (from matplotlib) (1.4.5)\n",
            "Requirement already satisfied: numpy>=1.20 in /usr/local/lib/python3.10/dist-packages (from matplotlib) (1.25.2)\n",
            "Requirement already satisfied: packaging>=20.0 in /usr/local/lib/python3.10/dist-packages (from matplotlib) (24.1)\n",
            "Requirement already satisfied: pillow>=6.2.0 in /usr/local/lib/python3.10/dist-packages (from matplotlib) (9.4.0)\n",
            "Requirement already satisfied: pyparsing>=2.3.1 in /usr/local/lib/python3.10/dist-packages (from matplotlib) (3.1.2)\n",
            "Requirement already satisfied: python-dateutil>=2.7 in /usr/local/lib/python3.10/dist-packages (from matplotlib) (2.8.2)\n",
            "Requirement already satisfied: six>=1.5 in /usr/local/lib/python3.10/dist-packages (from python-dateutil>=2.7->matplotlib) (1.16.0)\n"
          ]
        }
      ],
      "source": [
        "!pip install yfinance\n",
        "!pip install numpy\n",
        "!pip install pandas\n",
        "!pip install matplotlib"
      ]
    },
    {
      "cell_type": "code",
      "source": [
        "import yfinance as yf\n",
        "import pandas as pd\n",
        "import matplotlib.pyplot as plt\n",
        "import numpy as np\n"
      ],
      "metadata": {
        "id": "Jb8sscw7-YnT"
      },
      "execution_count": null,
      "outputs": []
    },
    {
      "cell_type": "code",
      "source": [
        "#Problem-1(a)\n",
        "\n",
        "\n",
        "ticker='TSLA'\n",
        "startdate = '2023-01-01'\n",
        "enddate = '2024-01-01'\n",
        "data=yf.download(ticker,startdate,enddate)\n",
        "print(data)"
      ],
      "metadata": {
        "id": "sxZSg17f9yMy",
        "colab": {
          "base_uri": "https://localhost:8080/"
        },
        "outputId": "98525d44-57dd-48a2-9641-53e8e06eff8e"
      },
      "execution_count": null,
      "outputs": [
        {
          "metadata": {
            "tags": null
          },
          "name": "stderr",
          "output_type": "stream",
          "text": [
            "\r[*********************100%%**********************]  1 of 1 completed"
          ]
        },
        {
          "metadata": {
            "tags": null
          },
          "name": "stdout",
          "output_type": "stream",
          "text": [
            "                  Open        High         Low       Close   Adj Close  \\\n",
            "Date                                                                     \n",
            "2023-01-03  118.470001  118.800003  104.639999  108.099998  108.099998   \n",
            "2023-01-04  109.110001  114.589996  107.519997  113.639999  113.639999   \n",
            "2023-01-05  110.510002  111.750000  107.160004  110.339996  110.339996   \n",
            "2023-01-06  103.000000  114.389999  101.809998  113.059998  113.059998   \n",
            "2023-01-09  118.959999  123.519997  117.110001  119.769997  119.769997   \n",
            "...                ...         ...         ...         ...         ...   \n",
            "2023-12-22  256.760010  258.220001  251.369995  252.539993  252.539993   \n",
            "2023-12-26  254.490005  257.970001  252.910004  256.609985  256.609985   \n",
            "2023-12-27  258.350006  263.339996  257.519989  261.440002  261.440002   \n",
            "2023-12-28  263.660004  265.130005  252.710007  253.179993  253.179993   \n",
            "2023-12-29  255.100006  255.190002  247.429993  248.479996  248.479996   \n",
            "\n",
            "               Volume  \n",
            "Date                   \n",
            "2023-01-03  231402800  \n",
            "2023-01-04  180389000  \n",
            "2023-01-05  157986300  \n",
            "2023-01-06  220911100  \n",
            "2023-01-09  190284000  \n",
            "...               ...  \n",
            "2023-12-22   93249800  \n",
            "2023-12-26   86892400  \n",
            "2023-12-27  106494400  \n",
            "2023-12-28  113619900  \n",
            "2023-12-29  100615300  \n",
            "\n",
            "[250 rows x 6 columns]\n"
          ]
        },
        {
          "metadata": {
            "tags": null
          },
          "name": "stderr",
          "output_type": "stream",
          "text": [
            "\n"
          ]
        }
      ]
    },
    {
      "cell_type": "code",
      "source": [
        "#Problem-1(b)\n",
        "\n",
        "\n",
        "visualise_data= pd.DataFrame(data)\n",
        "print(visualise_data)"
      ],
      "metadata": {
        "id": "M5NJlNO_9zEz",
        "colab": {
          "base_uri": "https://localhost:8080/"
        },
        "outputId": "4a84ec2e-d010-4b3e-8ec4-7412c2eeb46d"
      },
      "execution_count": null,
      "outputs": [
        {
          "metadata": {
            "tags": null
          },
          "name": "stdout",
          "output_type": "stream",
          "text": [
            "                  Open        High         Low       Close   Adj Close  \\\n",
            "Date                                                                     \n",
            "2023-01-03  118.470001  118.800003  104.639999  108.099998  108.099998   \n",
            "2023-01-04  109.110001  114.589996  107.519997  113.639999  113.639999   \n",
            "2023-01-05  110.510002  111.750000  107.160004  110.339996  110.339996   \n",
            "2023-01-06  103.000000  114.389999  101.809998  113.059998  113.059998   \n",
            "2023-01-09  118.959999  123.519997  117.110001  119.769997  119.769997   \n",
            "...                ...         ...         ...         ...         ...   \n",
            "2023-12-22  256.760010  258.220001  251.369995  252.539993  252.539993   \n",
            "2023-12-26  254.490005  257.970001  252.910004  256.609985  256.609985   \n",
            "2023-12-27  258.350006  263.339996  257.519989  261.440002  261.440002   \n",
            "2023-12-28  263.660004  265.130005  252.710007  253.179993  253.179993   \n",
            "2023-12-29  255.100006  255.190002  247.429993  248.479996  248.479996   \n",
            "\n",
            "               Volume  \n",
            "Date                   \n",
            "2023-01-03  231402800  \n",
            "2023-01-04  180389000  \n",
            "2023-01-05  157986300  \n",
            "2023-01-06  220911100  \n",
            "2023-01-09  190284000  \n",
            "...               ...  \n",
            "2023-12-22   93249800  \n",
            "2023-12-26   86892400  \n",
            "2023-12-27  106494400  \n",
            "2023-12-28  113619900  \n",
            "2023-12-29  100615300  \n",
            "\n",
            "[250 rows x 6 columns]\n"
          ]
        }
      ]
    },
    {
      "cell_type": "code",
      "source": [
        "#Problem-2\n",
        "\n",
        "\"\"\"\n",
        "Comparing the graph plotted above with one on trading view with the duration jan23-jan24, we can see that the graph plotted above is very similar to that in Trading View.\n",
        "\"\"\""
      ],
      "metadata": {
        "id": "3dMeREGR-Jyg",
        "colab": {
          "base_uri": "https://localhost:8080/",
          "height": 36
        },
        "outputId": "973820b9-5098-4126-88a5-f7d0a6644c23"
      },
      "execution_count": null,
      "outputs": [
        {
          "data": {
            "application/vnd.google.colaboratory.intrinsic+json": {
              "type": "string"
            },
            "text/plain": [
              "'\\nComparing the graph plotted above with one on trading view with the duration jan23-jan24, we can see that the graph plotted above is very similar to that in Trading View.\\n'"
            ]
          },
          "execution_count": 18,
          "metadata": {},
          "output_type": "execute_result"
        }
      ]
    },
    {
      "cell_type": "code",
      "source": [
        "#Problem-1(c)\n",
        "\n",
        "\n",
        "\n",
        "plt.figure(figsize=(9,5))\n",
        "plt.plot(data.index,data['Close'])\n",
        "plt.title('Closing Price of '+ ticker)\n",
        "plt.xlabel('Date')\n",
        "plt.ylabel('Closing Price')\n",
        "plt.show()\n",
        "\n"
      ],
      "metadata": {
        "id": "wUyz8m4_94Cj",
        "colab": {
          "base_uri": "https://localhost:8080/",
          "height": 487
        },
        "outputId": "021ffd58-febd-4839-dafd-3aef127bc2df"
      },
      "execution_count": null,
      "outputs": [
        {
          "data": {
            "image/png": "[encoded data removed]",
            "text/plain": [
              "<Figure size 900x500 with 1 Axes>"
            ]
          },
          "metadata": {},
          "output_type": "display_data"
        }
      ]
    },
    {
      "cell_type": "code",
      "source": [
        "#Problem-3\n",
        "def transpose_matrix(matrix):\n",
        "    num_rows = len(matrix)\n",
        "    num_cols = len(matrix[0])\n",
        "    transposed_matrix = [[0 for _ in range(num_rows)] for _ in range(num_cols)]\n",
        "    for i in range(num_rows):\n",
        "        for j in range(num_cols):\n",
        "            transposed_matrix[j][i] = matrix[i][j]\n",
        "\n",
        "    return transposed_matrix\n",
        "\n",
        "\n",
        "\n",
        "\n",
        "\n",
        "\n"
      ],
      "metadata": {
        "id": "DpzAFxZo-AW-"
      },
      "execution_count": null,
      "outputs": []
    },
    {
      "cell_type": "code",
      "source": [
        "#Problem-4\n",
        "def is_palindrome(text):\n",
        "    cleaned_text = \"\"\n",
        "    for char in text:\n",
        "        if char.isalnum():\n",
        "            cleaned_text += char.lower()\n",
        "\n",
        "    return cleaned_text==cleaned_text[::-1]\n",
        "\n",
        "text = input(\"Enter the text: \")\n",
        "if is_palindrome(text):\n",
        "    print(\"True\")\n",
        "else:\n",
        "    print(\"False\")"
      ],
      "metadata": {
        "id": "WB6r9mKS-F-4",
        "colab": {
          "base_uri": "https://localhost:8080/"
        },
        "outputId": "8c3757b6-d0d7-4c98-d928-dba9d4715573"
      },
      "execution_count": null,
      "outputs": [
        {
          "name": "stdout",
          "output_type": "stream",
          "text": [
            "Enter the text: sgs\n"
          ]
        }
      ]
    }
  ]
}